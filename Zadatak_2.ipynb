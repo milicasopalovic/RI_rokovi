{
 "cells": [
  {
   "cell_type": "markdown",
   "metadata": {},
   "source": [
    "## Zadatak 2.\n",
    "\n",
    "Jedna od modifikacija osnovne metode gradijentnog spusta je Barzilai-Borvejn metoda u kojoj se korak gradijentnog spusta izračunava na osnovu vrednosti gradijenata u dvema tačkama $x_n$ i $x_{n-1}$ po formuli$$\\gamma_n = \\frac{(x_n-x_{n-1})^T(\\nabla f(x_n)-\\nabla f(x_{n-1}))}{||\\nabla f(x_n)-\\nabla f(x_{n-1})||^2}$$za $n>=2$, a sa namerom da se aproksimira Njutnova metoda i ubrza ceo proces konvergencije."
   ]
  },
  {
   "cell_type": "code",
   "execution_count": 18,
   "metadata": {},
   "outputs": [],
   "source": [
    "import numpy as np\n",
    "from scipy import optimize as opt"
   ]
  },
  {
   "cell_type": "code",
   "execution_count": 19,
   "metadata": {},
   "outputs": [],
   "source": [
    "def f(p):\n",
    "    a, b = p[0], p[1]\n",
    "    return (1 - a)**2 + 100*(b-a**2)**2"
   ]
  },
  {
   "cell_type": "code",
   "execution_count": 20,
   "metadata": {},
   "outputs": [],
   "source": [
    "def g(p):\n",
    "    a, b = p[0], p[1]\n",
    "    x = -2*(1 - a) - 400*(b - a*a) * a\n",
    "    y = 200*(b - a*a)\n",
    "    return np.array([x, y])"
   ]
  },
  {
   "cell_type": "markdown",
   "metadata": {},
   "source": [
    "a) Implementirati Barzilai-Borvejn metodu koja za zadatu funkciju $f$ dveju promenljivih, njen gradijent $\\nabla f$, početnu tačku $x_0$ i vrednost koraka $\\gamma_0$ koji se koristi za izračunavanje tačke $x_1$ standardnom gradijentnom iteracijom izračunava minimum funkcije $f$. Algoritam zaustaviti ukoliko je broj iteracija veći od zadatog ograničenja $max\\_iterations$ ili ukoliko je norma gradijenta u tekućoj tački manja od zadate tačnosti $\\epsilon$."
   ]
  },
  {
   "cell_type": "code",
   "execution_count": 21,
   "metadata": {},
   "outputs": [],
   "source": [
    "def gamma_n(xn, xn1, grad, eps):\n",
    "    diff_pts = (xn - xn1)\n",
    "    diff_grad = (grad(xn) - grad(xn1))\n",
    "    denominator = np.linalg.norm(diff_grad)**2\n",
    "    numerator = np.dot(diff_pts, diff_grad)\n",
    "    return numerator / denominator"
   ]
  },
  {
   "cell_type": "code",
   "execution_count": 22,
   "metadata": {},
   "outputs": [],
   "source": [
    "def bb(f : callable, grad : callable, x0, gamma0, max_iterations, eps):\n",
    "    gradient = grad(x0)\n",
    "    x1 = x0 - gamma0*gradient\n",
    "    xn, xn1 = x1, x0\n",
    "\n",
    "    for it in range(max_iterations):\n",
    "        gamma = gamma_n(xn, xn1, grad, eps)\n",
    "        if np.linalg.norm(gradient) < eps:\n",
    "            break\n",
    "        if gamma is None:\n",
    "            break\n",
    "        gradient = grad(xn)\n",
    "        x_new = xn - gamma*gradient\n",
    "        xn, xn1 = x_new, xn\n",
    "    return xn\n",
    "    "
   ]
  },
  {
   "cell_type": "markdown",
   "metadata": {},
   "source": [
    "b) Primeniti implementiranu metodu na funkciju $$𝑓(a,b)=(1−a)^2+100(b−a^2)^2$$\n",
    "\n",
    "Za početnu tačku uzeti $(2.1,1.3)$, za vrednost koraka $\\gamma_0$ u prvoj iteraciji $0.01$, za maksimalan broj iteracija $100$, a za tačnost epsilon $10^{-8}$. "
   ]
  },
  {
   "cell_type": "code",
   "execution_count": null,
   "metadata": {},
   "outputs": [],
   "source": []
  },
  {
   "cell_type": "code",
   "execution_count": 23,
   "metadata": {},
   "outputs": [],
   "source": [
    "eps = 10**-8\n",
    "x0 = np.array((2.1, 1.3))\n",
    "gamma0 = 0.01\n",
    "max_iters = 100\n",
    "my_res = bb(f, g, x0, gamma0, max_iters,eps)"
   ]
  },
  {
   "cell_type": "markdown",
   "metadata": {},
   "source": [
    "c) Uporediti ovako dobijeno rešenje sa rešenjem neke od funkcija biblioteke `scipy.optimize`."
   ]
  },
  {
   "cell_type": "code",
   "execution_count": 24,
   "metadata": {},
   "outputs": [
    {
     "name": "stdout",
     "output_type": "stream",
     "text": [
      "[1. 1.]\n",
      "[0.99999506 0.99999011]\n"
     ]
    }
   ],
   "source": [
    "scipy_res = opt.minimize(f, x0, method='BFGS')\n",
    "print(my_res)\n",
    "print(scipy_res.x)\n"
   ]
  },
  {
   "cell_type": "code",
   "execution_count": null,
   "metadata": {},
   "outputs": [],
   "source": []
  }
 ],
 "metadata": {
  "kernelspec": {
   "display_name": ".venv",
   "language": "python",
   "name": "python3"
  },
  "language_info": {
   "codemirror_mode": {
    "name": "ipython",
    "version": 3
   },
   "file_extension": ".py",
   "mimetype": "text/x-python",
   "name": "python",
   "nbconvert_exporter": "python",
   "pygments_lexer": "ipython3",
   "version": "3.12.3"
  }
 },
 "nbformat": 4,
 "nbformat_minor": 4
}

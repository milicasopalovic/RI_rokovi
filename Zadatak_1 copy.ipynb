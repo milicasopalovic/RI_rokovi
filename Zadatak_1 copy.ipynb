{
 "cells": [
  {
   "cell_type": "markdown",
   "metadata": {},
   "source": [
    "### Zadatak 1.\n",
    "\n",
    "Implementirati genetski algoritam za resavanje problema \"Zbir podskupa\".\n",
    "\n",
    "Definicija problema: Za zadati niz brojeva i jedan ciljni broj, odrediti da li postoji neprazan podskup datog niza cija suma je ciljni broj.\n",
    "\n",
    "Primer: \n",
    "    \n",
    "    niz: [6, 2, -4, 23, 56, 8, 3]\n",
    "    \n",
    "    ciljni broj: 34\n",
    "    \n",
    "    resenje: [23, 8, 3]"
   ]
  },
  {
   "cell_type": "code",
   "execution_count": 13,
   "metadata": {},
   "outputs": [],
   "source": [
    "import random"
   ]
  },
  {
   "cell_type": "code",
   "execution_count": 14,
   "metadata": {},
   "outputs": [],
   "source": [
    "array = [6, 2, -4, 23, 56, 8, 3]\n",
    "target = 34"
   ]
  },
  {
   "cell_type": "code",
   "execution_count": 15,
   "metadata": {},
   "outputs": [],
   "source": [
    "class Individual():\n",
    "    \n",
    "    def __init__(self, array, target):\n",
    "        self.array = array.copy()\n",
    "        self.target = target\n",
    "        self.code = self.initialize(len(array))\n",
    "        self.fitness = self.calculateFitness()\n",
    "    \n",
    "    def initialize(self, n):\n",
    "        return [random.randint(0, 1) for _ in range(n)]\n",
    "                \n",
    "    # Sort ce pozvati ovaj metod za poredjenje, ukoliko koristite sort :)\n",
    "    def __lt__(self, other):\n",
    "        return self.fitness < other.fitness\n",
    "        \n",
    "    def invert(self):\n",
    "        return None\n",
    "        \n",
    "    def calculateFitness(self):\n",
    "        value = sum(x for i, x in enumerate(self.array) if self.code[i] == 1)\n",
    "        return -abs(self.target - value)"
   ]
  },
  {
   "cell_type": "markdown",
   "metadata": {},
   "source": [
    "Implementirati turnirsku selekciju"
   ]
  },
  {
   "cell_type": "code",
   "execution_count": 16,
   "metadata": {},
   "outputs": [],
   "source": [
    "from typing import List\n",
    "def selection(population : List[Individual], size):\n",
    "    # trazimo najbolju od random size jedinki\n",
    "    inds = random.sample(population, size)\n",
    "    return max(inds)"
   ]
  },
  {
   "cell_type": "markdown",
   "metadata": {},
   "source": [
    "Implementirati jednopoziciono ukrstanje"
   ]
  },
  {
   "cell_type": "code",
   "execution_count": 17,
   "metadata": {},
   "outputs": [],
   "source": [
    "def crossover(parent1 : Individual, parent2 : Individual, child1 : Individual, child2 : Individual):\n",
    "    n = len(parent1.code)\n",
    "    breakpoint = random.choice(range(1,n))\n",
    "    child1.code[:breakpoint] = parent1.code[:breakpoint]\n",
    "    child1.code[breakpoint:] = parent2.code[breakpoint:]\n",
    "\n",
    "    child2.code[:breakpoint] = parent2.code[:breakpoint]\n",
    "    child2.code[breakpoint:] = parent1.code[breakpoint:]\n",
    "    return None"
   ]
  },
  {
   "cell_type": "code",
   "execution_count": 18,
   "metadata": {},
   "outputs": [],
   "source": [
    "def mutation(individual : Individual, probability : float):\n",
    "    for i in range(len(individual.code)):\n",
    "        if random.random() < probability:\n",
    "            individual.code[i] = not individual.code[i]"
   ]
  },
  {
   "cell_type": "markdown",
   "metadata": {},
   "source": [
    "Implementirati elitizam velicine 30% populacije"
   ]
  },
  {
   "cell_type": "code",
   "execution_count": 19,
   "metadata": {},
   "outputs": [],
   "source": [
    "POPULATION_SIZE = 100\n",
    "SELECTION_SIZE = 6\n",
    "MUTATION_PROB = 0.05\n",
    "population = [Individual(array, target) for _ in range(POPULATION_SIZE)]\n",
    "newPopulation = [Individual(array, target) for _ in range(POPULATION_SIZE)]\n",
    "\n",
    "elit = int(0.3*POPULATION_SIZE)\n",
    "if elit % 2 != POPULATION_SIZE % 2:\n",
    "    elit += 1\n",
    "ELITISM_SIZE = elit\n",
    "MAX_ITER = 500\n",
    "\n",
    "# \n",
    "# Implementacija glavne logike\n",
    "#\n",
    "\n",
    "for it in range(MAX_ITER):\n",
    "    population.sort()\n",
    "    newPopulation[:ELITISM_SIZE] = population[:ELITISM_SIZE]\n",
    "    for i in range(ELITISM_SIZE, POPULATION_SIZE, 2):\n",
    "        parent1 = selection(population, SELECTION_SIZE)\n",
    "        parent2 = selection(population, SELECTION_SIZE)\n",
    "\n",
    "        crossover(parent1=parent1, parent2=parent2, child1=newPopulation[i], child2=newPopulation[i+1])\n",
    "        mutation(newPopulation[i], MUTATION_PROB)\n",
    "        mutation(newPopulation[i+1], MUTATION_PROB)\n",
    "        newPopulation[i].fitness = newPopulation[i].calculateFitness()\n",
    "        newPopulation[i+1].fitness = newPopulation[i+1].calculateFitness()\n",
    "    population = newPopulation\n",
    "    \n",
    "bestIndividual = max(population)"
   ]
  },
  {
   "cell_type": "code",
   "execution_count": 23,
   "metadata": {},
   "outputs": [
    {
     "name": "stdout",
     "output_type": "stream",
     "text": [
      "[23, 8, 3]\n"
     ]
    }
   ],
   "source": [
    "solution = [array[i] for i, c in enumerate(bestIndividual.code) if c]\n",
    "print(solution)"
   ]
  },
  {
   "cell_type": "code",
   "execution_count": null,
   "metadata": {},
   "outputs": [
    {
     "name": "stdout",
     "output_type": "stream",
     "text": [
      "[23, 8, 3]\n"
     ]
    }
   ],
   "source": [
    "solution = [array[i] for i, c in enumerate(bestIndividual.code) if c]\n",
    "print(solution)"
   ]
  },
  {
   "cell_type": "code",
   "execution_count": null,
   "metadata": {},
   "outputs": [],
   "source": []
  }
 ],
 "metadata": {
  "kernelspec": {
   "display_name": ".venv",
   "language": "python",
   "name": "python3"
  },
  "language_info": {
   "codemirror_mode": {
    "name": "ipython",
    "version": 3
   },
   "file_extension": ".py",
   "mimetype": "text/x-python",
   "name": "python",
   "nbconvert_exporter": "python",
   "pygments_lexer": "ipython3",
   "version": "3.12.3"
  }
 },
 "nbformat": 4,
 "nbformat_minor": 4
}

{
 "cells": [
  {
   "cell_type": "code",
   "execution_count": 58,
   "metadata": {},
   "outputs": [],
   "source": [
    "import random"
   ]
  },
  {
   "cell_type": "markdown",
   "metadata": {},
   "source": [
    "Data je matrica rastojanja između gradova $D$."
   ]
  },
  {
   "cell_type": "code",
   "execution_count": 59,
   "metadata": {},
   "outputs": [],
   "source": [
    "D = [[0,4,1,3],\n",
    "     [4,0,2,1],\n",
    "     [1,2,0,5],\n",
    "     [3,1,5,0]\n",
    "    ]"
   ]
  },
  {
   "cell_type": "markdown",
   "metadata": {},
   "source": [
    "Problem trgovačkog putnika: za dati skup gradova i rastojanja između njih, potrebno je odrediti najkraću rutu koja svaki grad posećuje tačno jednom, pri čemu je prvi grad ujedno i poslednji grad na putu."
   ]
  },
  {
   "cell_type": "markdown",
   "metadata": {},
   "source": [
    "Napisati funkciju $initialize$ koja za dati broj gradova $n$ konstruiše početno rešenje (proizvoljnu rutu) za trgovačkog putnika."
   ]
  },
  {
   "cell_type": "code",
   "execution_count": 60,
   "metadata": {},
   "outputs": [],
   "source": [
    "def initialize(n):\n",
    "# POCETAK STUDENTSKOG KODA\n",
    "#  resenje:[a,b,c,d] gde je a -> b -> c -> d putanja\n",
    "    # return [x for x in range(n)]\n",
    "    return random.sample(range(n),n)\n",
    "# KRAJ STUDENTSKOG KODA"
   ]
  },
  {
   "cell_type": "markdown",
   "metadata": {},
   "source": [
    "Napisati funkciju $calcSolutionValue$ koja za dato rešenje $solution$ i matricu rastojanja $D$ računa vrednost tog rešenja."
   ]
  },
  {
   "cell_type": "code",
   "execution_count": 61,
   "metadata": {},
   "outputs": [],
   "source": [
    "def calcSolutionValue(solution, D):\n",
    "# POCETAK STUDENTSKOG KODA\n",
    "    value = 0\n",
    "    for a, b in zip(solution[:-1], solution[1:]):\n",
    "        value = value + D[a][b]\n",
    "    value = value + D[solution[-1]][solution[0]]\n",
    "    return value\n",
    "# KRAJ STUDENTSKOG KODA"
   ]
  },
  {
   "cell_type": "markdown",
   "metadata": {},
   "source": [
    "Napisati funkciju $createNewSolution$ koja malom izmenom datog trenutnog rešenja $solution$ konstruiše novo rešenje."
   ]
  },
  {
   "cell_type": "code",
   "execution_count": 62,
   "metadata": {},
   "outputs": [],
   "source": [
    "def createNewSolution(solution):\n",
    "# POCETAK STUDENTSKOG KODA\n",
    "    new_solution = solution.copy()\n",
    "    n = len(solution)\n",
    "    indices = random.sample(range(n), 2)\n",
    "    i, j = indices\n",
    "    new_solution[i], new_solution[j] = new_solution[j], new_solution[i]\n",
    "    return new_solution\n",
    "# KRAJ STUDENTSKOG KODA "
   ]
  },
  {
   "cell_type": "markdown",
   "metadata": {},
   "source": [
    "Konačno, napisati funkciju $simulatedAnnealing$ koja za datu matricu rastojanja $D$ rešava problem trgovačkog putnika primenom simuliranog kaljenja.\n",
    "Uslov zaustavljanja je broj iteracija $iters$.\n",
    "\n",
    "Za funkciju $p$ koristiti $\\frac{1}{\\sqrt{i}}$, gde je $i$ broj trenutne iteracije.\n",
    "\n",
    "Iz funkcije vratiti vrednost najboljeg rešenja i najbolju rutu."
   ]
  },
  {
   "cell_type": "code",
   "execution_count": 63,
   "metadata": {},
   "outputs": [],
   "source": [
    "import math\n",
    "def simulatedAnnealing(D, iters):\n",
    "# POCETAK STUDENTSKOG KODA\n",
    "    n = len(D)\n",
    "    solution = initialize(n)\n",
    "    best_solution = solution.copy()\n",
    "    value = calcSolutionValue(solution, D)\n",
    "    best_value = value\n",
    "    for it in range(1,iters+1):\n",
    "        new_solution = createNewSolution(solution)\n",
    "        new_value = calcSolutionValue(new_solution, D)\n",
    "        if new_value < value:\n",
    "            solution = new_solution\n",
    "            value = new_value\n",
    "            if value < best_value:\n",
    "                best_solution = solution.copy()\n",
    "                best_value = value\n",
    "        else:\n",
    "            p = 1/math.sqrt(it)\n",
    "            q = random.random()\n",
    "            if q < p:\n",
    "                solution = new_solution\n",
    "                value = new_value\n",
    "    return best_value, best_solution\n",
    "# KRAJ STUDENTSKOG KODA"
   ]
  },
  {
   "cell_type": "markdown",
   "metadata": {},
   "source": [
    "1. test primer (matrica rastojanja $D$)\n",
    "\n",
    "Optimalna vrednost: 7\n",
    "\n",
    "Optimalna ruta: 0 -> 2 -> 1 -> 3"
   ]
  },
  {
   "cell_type": "code",
   "execution_count": 64,
   "metadata": {},
   "outputs": [
    {
     "data": {
      "text/plain": [
       "(7, [1, 3, 0, 2])"
      ]
     },
     "execution_count": 64,
     "metadata": {},
     "output_type": "execute_result"
    }
   ],
   "source": [
    "simulatedAnnealing(D, 10)"
   ]
  },
  {
   "cell_type": "code",
   "execution_count": 65,
   "metadata": {},
   "outputs": [],
   "source": [
    "def readFile(filename):\n",
    "    with open(filename, 'r') as f:\n",
    "        numCities = [int(x) for x in f.readline().split()][0]\n",
    "        D = [[int(x) for x in f.readline().split()] for i in range(numCities)]\n",
    "        return D"
   ]
  },
  {
   "cell_type": "code",
   "execution_count": 66,
   "metadata": {},
   "outputs": [],
   "source": [
    "D_2 = readFile('tsp_input.txt')"
   ]
  },
  {
   "cell_type": "markdown",
   "metadata": {},
   "source": [
    "2. test primer (matrica rastojanja $D_2$)\n",
    "\n",
    "Optimalna vrednost: 27603"
   ]
  },
  {
   "cell_type": "code",
   "execution_count": 67,
   "metadata": {},
   "outputs": [],
   "source": [
    "value , solution = simulatedAnnealing(D_2, 100000)"
   ]
  },
  {
   "cell_type": "code",
   "execution_count": 68,
   "metadata": {},
   "outputs": [
    {
     "name": "stdout",
     "output_type": "stream",
     "text": [
      "28310 [21, 17, 18, 14, 11, 10, 9, 5, 1, 0, 4, 7, 3, 2, 6, 8, 12, 13, 16, 19, 15, 24, 26, 23, 25, 27, 28, 22, 20]\n"
     ]
    }
   ],
   "source": [
    "print(value, solution)"
   ]
  },
  {
   "cell_type": "code",
   "execution_count": null,
   "metadata": {},
   "outputs": [],
   "source": []
  }
 ],
 "metadata": {
  "kernelspec": {
   "display_name": ".venv",
   "language": "python",
   "name": "python3"
  },
  "language_info": {
   "codemirror_mode": {
    "name": "ipython",
    "version": 3
   },
   "file_extension": ".py",
   "mimetype": "text/x-python",
   "name": "python",
   "nbconvert_exporter": "python",
   "pygments_lexer": "ipython3",
   "version": "3.12.3"
  }
 },
 "nbformat": 4,
 "nbformat_minor": 4
}

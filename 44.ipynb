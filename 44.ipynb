{
  "nbformat": 4,
  "nbformat_minor": 0,
  "metadata": {
    "colab": {
      "provenance": [],
      "gpuType": "T4",
      "authorship_tag": "ABX9TyMowrvtMYTO88KopLR7oQuN",
      "include_colab_link": true
    },
    "kernelspec": {
      "name": "python3",
      "display_name": "Python 3"
    },
    "language_info": {
      "name": "python"
    },
    "accelerator": "GPU"
  },
  "cells": [
    {
      "cell_type": "markdown",
      "metadata": {
        "id": "view-in-github",
        "colab_type": "text"
      },
      "source": [
        "<a href=\"https://colab.research.google.com/github/milicasopalovic/RI_rokovi/blob/main/44.ipynb\" target=\"_parent\"><img src=\"https://colab.research.google.com/assets/colab-badge.svg\" alt=\"Open In Colab\"/></a>"
      ]
    },
    {
      "cell_type": "code",
      "execution_count": 2,
      "metadata": {
        "colab": {
          "base_uri": "https://localhost:8080/"
        },
        "id": "0PoCSWl5vRyr",
        "outputId": "5d18280a-f569-4721-a4c4-d5a0567c5928"
      },
      "outputs": [
        {
          "output_type": "stream",
          "name": "stdout",
          "text": [
            "fatal: destination path 'emotion-detection' already exists and is not an empty directory.\n"
          ]
        }
      ],
      "source": [
        "!git clone https://gitlab.com/milicasopalovic/emotion-detection.git"
      ]
    },
    {
      "cell_type": "code",
      "source": [
        "import os\n",
        "\n",
        "# Provera fajlova u kloniranom repozitorijumu\n",
        "os.listdir('./emotion-detection')\n"
      ],
      "metadata": {
        "colab": {
          "base_uri": "https://localhost:8080/"
        },
        "id": "7_6XQdoIv4yn",
        "outputId": "895eab37-e178-4a50-b2b2-a25d7416a95a"
      },
      "execution_count": 3,
      "outputs": [
        {
          "output_type": "execute_result",
          "data": {
            "text/plain": [
              "['README.md', '.git', 'dataset']"
            ]
          },
          "metadata": {},
          "execution_count": 3
        }
      ]
    },
    {
      "cell_type": "code",
      "source": [
        "import tensorflow as tf\n",
        "import os\n",
        "import numpy as np\n",
        "from matplotlib import pyplot as plt\n",
        "from tensorflow.keras.preprocessing.image import ImageDataGenerator, load_img, img_to_array\n",
        "from tensorflow.keras.utils import load_img, img_to_array, save_img, image_dataset_from_directory\n",
        "from tensorflow.keras import Sequential, layers, models\n",
        "from tensorflow.keras.layers import Conv2D, MaxPooling2D, Flatten, Dense\n",
        "from collections import Counter\n",
        "import cv2\n",
        "import imghdr\n",
        "from sklearn.model_selection import train_test_split\n",
        "from imblearn.over_sampling import RandomOverSampler\n",
        "from tensorflow.keras.models import Sequential\n",
        "from tensorflow.keras.layers import Conv2D, MaxPooling2D, Flatten, Dense, Dropout\n"
      ],
      "metadata": {
        "id": "0T-bzuze1X5V"
      },
      "execution_count": 4,
      "outputs": []
    },
    {
      "cell_type": "code",
      "source": [
        "import os\n",
        "from collections import Counter\n",
        "\n",
        "# Putanja do dataset-a\n",
        "dataset_path = \"./emotion-detection/dataset/train\"\n",
        "\n",
        "# Analiza distribucije klasa\n",
        "class_counts = {}\n",
        "for class_name in os.listdir(dataset_path):\n",
        "    class_folder = os.path.join(dataset_path, class_name)\n",
        "    if os.path.isdir(class_folder):\n",
        "        class_counts[class_name] = len(os.listdir(class_folder))\n",
        "\n",
        "print(\"Distribucija klasa:\", class_counts)\n"
      ],
      "metadata": {
        "id": "EkFbTn-V1nPV",
        "colab": {
          "base_uri": "https://localhost:8080/"
        },
        "outputId": "6f2d5fef-340c-44b1-fbc5-2dae412dcbbd"
      },
      "execution_count": 5,
      "outputs": [
        {
          "output_type": "stream",
          "name": "stdout",
          "text": [
            "Distribucija klasa: {'disgusted': 436, 'fearful': 4097, 'surprised': 3171, 'neutral': 4965, 'sad': 4830, 'happy': 7215, 'angry': 3995}\n"
          ]
        }
      ]
    },
    {
      "cell_type": "code",
      "source": [
        "import matplotlib.pyplot as plt\n",
        "\n",
        "plt.bar(class_counts.keys(), class_counts.values())\n",
        "plt.title(\"Distribucija klasa\")\n",
        "plt.xlabel(\"Klase\")\n",
        "plt.ylabel(\"Broj slika\")\n",
        "plt.show()"
      ],
      "metadata": {
        "colab": {
          "base_uri": "https://localhost:8080/",
          "height": 472
        },
        "id": "mZJehCPS1r_j",
        "outputId": "c6f6ff7a-dc68-40d6-895c-e10e4d06d8b0"
      },
      "execution_count": 6,
      "outputs": [
        {
          "output_type": "display_data",
          "data": {
            "text/plain": [
              "<Figure size 640x480 with 1 Axes>"
            ],
            "image/png": "[encoded data removed]"
          },
          "metadata": {}
        }
      ]
    },
    {
      "cell_type": "code",
      "source": [],
      "metadata": {
        "id": "S_oO1PeYGgr_"
      },
      "execution_count": 6,
      "outputs": []
    },
    {
      "cell_type": "code",
      "source": [
        "from tensorflow.keras.preprocessing.image import ImageDataGenerator\n",
        "\n",
        "# Augmentacija i podela trening podataka\n",
        "train_datagen = ImageDataGenerator(\n",
        "    rescale=1.0/255,\n",
        "    rotation_range=30,\n",
        "    width_shift_range=0.2,\n",
        "    height_shift_range=0.2,\n",
        "    zoom_range=0.2,\n",
        "    horizontal_flip=True,\n",
        "    fill_mode=\"nearest\",\n",
        "    validation_split=0.2  # 20% trening podataka za validaciju\n",
        ")\n",
        "\n",
        "# Trening generator (80% trening podataka)\n",
        "train_generator = train_datagen.flow_from_directory(\n",
        "    \"./emotion-detection/dataset/train\",\n",
        "    target_size=(48, 48),\n",
        "    color_mode=\"grayscale\",\n",
        "    batch_size=32,\n",
        "    class_mode=\"categorical\",\n",
        "    subset='training'  # Deo za treniranje\n",
        ")\n",
        "\n",
        "# Validacioni generator (20% trening podataka)\n",
        "val_generator = train_datagen.flow_from_directory(\n",
        "    \"./emotion-detection/dataset/train\",\n",
        "    target_size=(48, 48),\n",
        "    color_mode=\"grayscale\",\n",
        "    batch_size=32,\n",
        "    class_mode=\"categorical\",\n",
        "    subset='validation'  # Deo za validaciju\n",
        ")\n",
        "\n",
        "\n",
        "test_datagen = ImageDataGenerator(rescale=1.0/255)\n",
        "test_generator = test_datagen.flow_from_directory(\n",
        "    \"./emotion-detection/dataset/test\",\n",
        "    target_size=(48, 48),\n",
        "    color_mode=\"grayscale\",\n",
        "    batch_size=32,\n",
        "    class_mode=\"categorical\"\n",
        ")\n"
      ],
      "metadata": {
        "colab": {
          "base_uri": "https://localhost:8080/"
        },
        "id": "HmpV2xG41uJ8",
        "outputId": "3bce56f0-9715-458b-d3a8-9cb6fc7c0a14"
      },
      "execution_count": 15,
      "outputs": [
        {
          "output_type": "stream",
          "name": "stdout",
          "text": [
            "Found 22968 images belonging to 7 classes.\n",
            "Found 5741 images belonging to 7 classes.\n",
            "Found 7178 images belonging to 7 classes.\n"
          ]
        }
      ]
    },
    {
      "cell_type": "code",
      "source": [
        "from sklearn.utils.class_weight import compute_class_weight\n",
        "import numpy as np\n",
        "\n",
        "class_weights = compute_class_weight(\n",
        "    class_weight=\"balanced\",\n",
        "    classes=np.unique(train_generator.classes),\n",
        "    y=train_generator.classes\n",
        ")\n",
        "class_weights = dict(enumerate(class_weights))\n",
        "print(\"Težine klasa:\", class_weights)"
      ],
      "metadata": {
        "colab": {
          "base_uri": "https://localhost:8080/"
        },
        "id": "-UkW0OvF2pe9",
        "outputId": "05c7bca5-d5fd-4b40-9ce7-e0e05c64ec74"
      },
      "execution_count": 8,
      "outputs": [
        {
          "output_type": "stream",
          "name": "stdout",
          "text": [
            "Težine klasa: {0: 1.0266404434114071, 1: 9.401555464592715, 2: 1.0009587727708533, 3: 0.5684585684585685, 4: 0.826068191627104, 5: 0.8491570541259982, 6: 1.2933160650937552}\n"
          ]
        }
      ]
    },
    {
      "cell_type": "code",
      "source": [
        "input_shape=(48, 48, 1)\n",
        "num_classes = 7"
      ],
      "metadata": {
        "id": "Y71lwaltEfjQ"
      },
      "execution_count": 9,
      "outputs": []
    },
    {
      "cell_type": "code",
      "source": [
        "from tensorflow.keras.models import Sequential\n",
        "from tensorflow.keras.layers import Conv2D, BatchNormalization, Activation\n",
        "from tensorflow.keras.layers import AveragePooling2D, Dropout, GlobalAveragePooling2D\n",
        "\n",
        "model = Sequential()\n",
        "\n",
        "# Blok 1\n",
        "model.add(Conv2D(filters=16, kernel_size=(7, 7), padding='same',\n",
        "                 name='block1_conv1', input_shape=input_shape))\n",
        "model.add(BatchNormalization(name='block1_bn1'))\n",
        "model.add(Conv2D(filters=16, kernel_size=(7, 7), padding='same', name='block1_conv2'))\n",
        "model.add(BatchNormalization(name='block1_bn2'))\n",
        "model.add(Activation('relu', name='block1_relu'))\n",
        "model.add(AveragePooling2D(pool_size=(2, 2), padding='same', name='block1_pool'))\n",
        "model.add(Dropout(0.5, name='block1_dropout'))\n",
        "\n",
        "# Blok 2\n",
        "model.add(Conv2D(filters=32, kernel_size=(5, 5), padding='same', name='block2_conv1'))\n",
        "model.add(BatchNormalization(name='block2_bn1'))\n",
        "model.add(Conv2D(filters=32, kernel_size=(5, 5), padding='same', name='block2_conv2'))\n",
        "model.add(BatchNormalization(name='block2_bn2'))\n",
        "model.add(Activation('relu', name='block2_relu'))\n",
        "model.add(AveragePooling2D(pool_size=(2, 2), padding='same', name='block2_pool'))\n",
        "model.add(Dropout(0.5, name='block2_dropout'))\n",
        "\n",
        "# Blok 3\n",
        "model.add(Conv2D(filters=64, kernel_size=(3, 3), padding='same', name='block3_conv1'))\n",
        "model.add(BatchNormalization(name='block3_bn1'))\n",
        "model.add(Conv2D(filters=64, kernel_size=(3, 3), padding='same', name='block3_conv2'))\n",
        "model.add(BatchNormalization(name='block3_bn2'))\n",
        "model.add(Activation('relu', name='block3_relu'))\n",
        "model.add(AveragePooling2D(pool_size=(2, 2), padding='same', name='block3_pool'))\n",
        "model.add(Dropout(0.5, name='block3_dropout'))\n",
        "\n",
        "# Blok 4\n",
        "model.add(Conv2D(filters=128, kernel_size=(3, 3), padding='same', name='block4_conv1'))\n",
        "model.add(BatchNormalization(name='block4_bn1'))\n",
        "model.add(Conv2D(filters=128, kernel_size=(3, 3), padding='same', name='block4_conv2'))\n",
        "model.add(BatchNormalization(name='block4_bn2'))\n",
        "model.add(Activation('relu', name='block4_relu'))\n",
        "model.add(AveragePooling2D(pool_size=(2, 2), padding='same', name='block4_pool'))\n",
        "model.add(Dropout(0.5, name='block4_dropout'))\n",
        "\n",
        "# Blok 5\n",
        "model.add(Conv2D(filters=256, kernel_size=(3, 3), padding='same', name='block5_conv1'))\n",
        "model.add(BatchNormalization(name='block5_bn1'))\n",
        "model.add(Conv2D(filters=num_classes, kernel_size=(3, 3), padding='same', name='block5_conv2'))\n",
        "model.add(GlobalAveragePooling2D(name='block5_gap'))\n",
        "model.add(Activation('softmax', name='predictions'))"
      ],
      "metadata": {
        "id": "7nDMV77K2zo2",
        "colab": {
          "base_uri": "https://localhost:8080/"
        },
        "outputId": "a0e54ca0-f5b1-44c7-e426-01912f056e53"
      },
      "execution_count": 10,
      "outputs": [
        {
          "output_type": "stream",
          "name": "stderr",
          "text": [
            "/usr/local/lib/python3.10/dist-packages/keras/src/layers/convolutional/base_conv.py:107: UserWarning: Do not pass an `input_shape`/`input_dim` argument to a layer. When using Sequential models, prefer using an `Input(shape)` object as the first layer in the model instead.\n",
            "  super().__init__(activity_regularizer=activity_regularizer, **kwargs)\n"
          ]
        }
      ]
    },
    {
      "cell_type": "code",
      "source": [
        "model.compile(optimizer='adam', loss='categorical_crossentropy',\n",
        "              metrics=['accuracy'])\n",
        "patience = 50\n",
        "from keras.callbacks import ReduceLROnPlateau, ModelCheckpoint, EarlyStopping\n",
        "\n",
        "\n",
        "early_stop = EarlyStopping('val_loss', patience=patience)\n",
        "reduce_lr = ReduceLROnPlateau('val_loss', factor=0.1,patience=int(patience/4), verbose=1)\n",
        "\n",
        "callbacks = [early_stop, reduce_lr]\n",
        "\n",
        "\n",
        "# Treniranje\n",
        "history = model.fit(\n",
        "    train_generator,\n",
        "    validation_data=val_generator,\n",
        "    epochs=50,\n",
        "    class_weight=class_weights,\n",
        "    callbacks=callbacks\n",
        ")"
      ],
      "metadata": {
        "colab": {
          "base_uri": "https://localhost:8080/"
        },
        "id": "dusxJPop22tZ",
        "outputId": "ecdba0a0-be26-4318-e86f-6a861fa01df9"
      },
      "execution_count": 16,
      "outputs": [
        {
          "output_type": "stream",
          "name": "stdout",
          "text": [
            "Epoch 1/50\n"
          ]
        },
        {
          "output_type": "stream",
          "name": "stderr",
          "text": [
            "/usr/local/lib/python3.10/dist-packages/keras/src/trainers/data_adapters/py_dataset_adapter.py:122: UserWarning: Your `PyDataset` class should call `super().__init__(**kwargs)` in its constructor. `**kwargs` can include `workers`, `use_multiprocessing`, `max_queue_size`. Do not pass these arguments to `fit()`, as they will be ignored.\n",
            "  self._warn_if_super_not_called()\n"
          ]
        },
        {
          "output_type": "stream",
          "name": "stdout",
          "text": [
            "\u001b[1m718/718\u001b[0m \u001b[32m━━━━━━━━━━━━━━━━━━━━\u001b[0m\u001b[37m\u001b[0m \u001b[1m52s\u001b[0m 53ms/step - accuracy: 0.1610 - loss: 2.0915 - val_accuracy: 0.1730 - val_loss: 2.0216 - learning_rate: 0.0010\n",
            "Epoch 2/50\n",
            "\u001b[1m718/718\u001b[0m \u001b[32m━━━━━━━━━━━━━━━━━━━━\u001b[0m\u001b[37m\u001b[0m \u001b[1m62s\u001b[0m 38ms/step - accuracy: 0.1540 - loss: 1.9996 - val_accuracy: 0.2033 - val_loss: 1.9058 - learning_rate: 0.0010\n",
            "Epoch 3/50\n",
            "\u001b[1m718/718\u001b[0m \u001b[32m━━━━━━━━━━━━━━━━━━━━\u001b[0m\u001b[37m\u001b[0m \u001b[1m27s\u001b[0m 38ms/step - accuracy: 0.1790 - loss: 1.9714 - val_accuracy: 0.1702 - val_loss: 1.9107 - learning_rate: 0.0010\n",
            "Epoch 4/50\n",
            "\u001b[1m718/718\u001b[0m \u001b[32m━━━━━━━━━━━━━━━━━━━━\u001b[0m\u001b[37m\u001b[0m \u001b[1m27s\u001b[0m 38ms/step - accuracy: 0.1804 - loss: 1.9244 - val_accuracy: 0.1655 - val_loss: 1.9522 - learning_rate: 0.0010\n",
            "Epoch 5/50\n",
            "\u001b[1m718/718\u001b[0m \u001b[32m━━━━━━━━━━━━━━━━━━━━\u001b[0m\u001b[37m\u001b[0m \u001b[1m41s\u001b[0m 38ms/step - accuracy: 0.1765 - loss: 1.9293 - val_accuracy: 0.2007 - val_loss: 1.8412 - learning_rate: 0.0010\n",
            "Epoch 6/50\n",
            "\u001b[1m718/718\u001b[0m \u001b[32m━━━━━━━━━━━━━━━━━━━━\u001b[0m\u001b[37m\u001b[0m \u001b[1m28s\u001b[0m 38ms/step - accuracy: 0.1789 - loss: 1.9137 - val_accuracy: 0.2050 - val_loss: 1.8975 - learning_rate: 0.0010\n",
            "Epoch 7/50\n",
            "\u001b[1m718/718\u001b[0m \u001b[32m━━━━━━━━━━━━━━━━━━━━\u001b[0m\u001b[37m\u001b[0m \u001b[1m27s\u001b[0m 38ms/step - accuracy: 0.1951 - loss: 1.9088 - val_accuracy: 0.2292 - val_loss: 1.8758 - learning_rate: 0.0010\n",
            "Epoch 8/50\n",
            "\u001b[1m718/718\u001b[0m \u001b[32m━━━━━━━━━━━━━━━━━━━━\u001b[0m\u001b[37m\u001b[0m \u001b[1m41s\u001b[0m 37ms/step - accuracy: 0.1995 - loss: 1.8969 - val_accuracy: 0.1728 - val_loss: 1.9656 - learning_rate: 0.0010\n",
            "Epoch 9/50\n",
            "\u001b[1m718/718\u001b[0m \u001b[32m━━━━━━━━━━━━━━━━━━━━\u001b[0m\u001b[37m\u001b[0m \u001b[1m42s\u001b[0m 39ms/step - accuracy: 0.2155 - loss: 1.8694 - val_accuracy: 0.2106 - val_loss: 1.9868 - learning_rate: 0.0010\n",
            "Epoch 10/50\n",
            "\u001b[1m718/718\u001b[0m \u001b[32m━━━━━━━━━━━━━━━━━━━━\u001b[0m\u001b[37m\u001b[0m \u001b[1m40s\u001b[0m 37ms/step - accuracy: 0.2235 - loss: 1.8834 - val_accuracy: 0.2691 - val_loss: 1.8361 - learning_rate: 0.0010\n",
            "Epoch 11/50\n",
            "\u001b[1m718/718\u001b[0m \u001b[32m━━━━━━━━━━━━━━━━━━━━\u001b[0m\u001b[37m\u001b[0m \u001b[1m28s\u001b[0m 38ms/step - accuracy: 0.2489 - loss: 1.8503 - val_accuracy: 0.2050 - val_loss: 1.8914 - learning_rate: 0.0010\n",
            "Epoch 12/50\n",
            "\u001b[1m718/718\u001b[0m \u001b[32m━━━━━━━━━━━━━━━━━━━━\u001b[0m\u001b[37m\u001b[0m \u001b[1m41s\u001b[0m 38ms/step - accuracy: 0.2387 - loss: 1.8704 - val_accuracy: 0.2675 - val_loss: 1.8385 - learning_rate: 0.0010\n",
            "Epoch 13/50\n",
            "\u001b[1m718/718\u001b[0m \u001b[32m━━━━━━━━━━━━━━━━━━━━\u001b[0m\u001b[37m\u001b[0m \u001b[1m42s\u001b[0m 39ms/step - accuracy: 0.2556 - loss: 1.8324 - val_accuracy: 0.2088 - val_loss: 1.9168 - learning_rate: 0.0010\n",
            "Epoch 14/50\n",
            "\u001b[1m718/718\u001b[0m \u001b[32m━━━━━━━━━━━━━━━━━━━━\u001b[0m\u001b[37m\u001b[0m \u001b[1m27s\u001b[0m 38ms/step - accuracy: 0.2546 - loss: 1.8543 - val_accuracy: 0.2331 - val_loss: 1.8667 - learning_rate: 0.0010\n",
            "Epoch 15/50\n",
            "\u001b[1m718/718\u001b[0m \u001b[32m━━━━━━━━━━━━━━━━━━━━\u001b[0m\u001b[37m\u001b[0m \u001b[1m41s\u001b[0m 38ms/step - accuracy: 0.2710 - loss: 1.8328 - val_accuracy: 0.3006 - val_loss: 1.7798 - learning_rate: 0.0010\n",
            "Epoch 16/50\n",
            "\u001b[1m718/718\u001b[0m \u001b[32m━━━━━━━━━━━━━━━━━━━━\u001b[0m\u001b[37m\u001b[0m \u001b[1m42s\u001b[0m 39ms/step - accuracy: 0.2720 - loss: 1.8107 - val_accuracy: 0.2752 - val_loss: 1.8230 - learning_rate: 0.0010\n",
            "Epoch 17/50\n",
            "\u001b[1m718/718\u001b[0m \u001b[32m━━━━━━━━━━━━━━━━━━━━\u001b[0m\u001b[37m\u001b[0m \u001b[1m40s\u001b[0m 38ms/step - accuracy: 0.2724 - loss: 1.8128 - val_accuracy: 0.3088 - val_loss: 1.7734 - learning_rate: 0.0010\n",
            "Epoch 18/50\n",
            "\u001b[1m718/718\u001b[0m \u001b[32m━━━━━━━━━━━━━━━━━━━━\u001b[0m\u001b[37m\u001b[0m \u001b[1m28s\u001b[0m 39ms/step - accuracy: 0.2758 - loss: 1.8025 - val_accuracy: 0.3182 - val_loss: 1.7428 - learning_rate: 0.0010\n",
            "Epoch 19/50\n",
            "\u001b[1m718/718\u001b[0m \u001b[32m━━━━━━━━━━━━━━━━━━━━\u001b[0m\u001b[37m\u001b[0m \u001b[1m27s\u001b[0m 38ms/step - accuracy: 0.2743 - loss: 1.7943 - val_accuracy: 0.3290 - val_loss: 1.7161 - learning_rate: 0.0010\n",
            "Epoch 20/50\n",
            "\u001b[1m718/718\u001b[0m \u001b[32m━━━━━━━━━━━━━━━━━━━━\u001b[0m\u001b[37m\u001b[0m \u001b[1m27s\u001b[0m 38ms/step - accuracy: 0.2811 - loss: 1.8071 - val_accuracy: 0.3160 - val_loss: 1.7573 - learning_rate: 0.0010\n",
            "Epoch 21/50\n",
            "\u001b[1m718/718\u001b[0m \u001b[32m━━━━━━━━━━━━━━━━━━━━\u001b[0m\u001b[37m\u001b[0m \u001b[1m28s\u001b[0m 39ms/step - accuracy: 0.2978 - loss: 1.7596 - val_accuracy: 0.3501 - val_loss: 1.6930 - learning_rate: 0.0010\n",
            "Epoch 22/50\n",
            "\u001b[1m718/718\u001b[0m \u001b[32m━━━━━━━━━━━━━━━━━━━━\u001b[0m\u001b[37m\u001b[0m \u001b[1m27s\u001b[0m 38ms/step - accuracy: 0.2958 - loss: 1.7780 - val_accuracy: 0.3282 - val_loss: 1.7074 - learning_rate: 0.0010\n",
            "Epoch 23/50\n",
            "\u001b[1m718/718\u001b[0m \u001b[32m━━━━━━━━━━━━━━━━━━━━\u001b[0m\u001b[37m\u001b[0m \u001b[1m41s\u001b[0m 38ms/step - accuracy: 0.3043 - loss: 1.7334 - val_accuracy: 0.3191 - val_loss: 1.7197 - learning_rate: 0.0010\n",
            "Epoch 24/50\n",
            "\u001b[1m718/718\u001b[0m \u001b[32m━━━━━━━━━━━━━━━━━━━━\u001b[0m\u001b[37m\u001b[0m \u001b[1m40s\u001b[0m 37ms/step - accuracy: 0.3156 - loss: 1.7240 - val_accuracy: 0.3466 - val_loss: 1.6621 - learning_rate: 0.0010\n",
            "Epoch 25/50\n",
            "\u001b[1m718/718\u001b[0m \u001b[32m━━━━━━━━━━━━━━━━━━━━\u001b[0m\u001b[37m\u001b[0m \u001b[1m27s\u001b[0m 38ms/step - accuracy: 0.3016 - loss: 1.7552 - val_accuracy: 0.3529 - val_loss: 1.6781 - learning_rate: 0.0010\n",
            "Epoch 26/50\n",
            "\u001b[1m718/718\u001b[0m \u001b[32m━━━━━━━━━━━━━━━━━━━━\u001b[0m\u001b[37m\u001b[0m \u001b[1m41s\u001b[0m 38ms/step - accuracy: 0.3213 - loss: 1.7162 - val_accuracy: 0.3513 - val_loss: 1.6800 - learning_rate: 0.0010\n",
            "Epoch 27/50\n",
            "\u001b[1m718/718\u001b[0m \u001b[32m━━━━━━━━━━━━━━━━━━━━\u001b[0m\u001b[37m\u001b[0m \u001b[1m41s\u001b[0m 38ms/step - accuracy: 0.3153 - loss: 1.7348 - val_accuracy: 0.3553 - val_loss: 1.6677 - learning_rate: 0.0010\n",
            "Epoch 28/50\n",
            "\u001b[1m718/718\u001b[0m \u001b[32m━━━━━━━━━━━━━━━━━━━━\u001b[0m\u001b[37m\u001b[0m \u001b[1m42s\u001b[0m 38ms/step - accuracy: 0.3235 - loss: 1.7158 - val_accuracy: 0.3484 - val_loss: 1.6795 - learning_rate: 0.0010\n",
            "Epoch 29/50\n",
            "\u001b[1m718/718\u001b[0m \u001b[32m━━━━━━━━━━━━━━━━━━━━\u001b[0m\u001b[37m\u001b[0m \u001b[1m28s\u001b[0m 38ms/step - accuracy: 0.3198 - loss: 1.7167 - val_accuracy: 0.3073 - val_loss: 1.7455 - learning_rate: 0.0010\n",
            "Epoch 30/50\n",
            "\u001b[1m718/718\u001b[0m \u001b[32m━━━━━━━━━━━━━━━━━━━━\u001b[0m\u001b[37m\u001b[0m \u001b[1m28s\u001b[0m 38ms/step - accuracy: 0.3147 - loss: 1.7107 - val_accuracy: 0.2979 - val_loss: 1.7800 - learning_rate: 0.0010\n",
            "Epoch 31/50\n",
            "\u001b[1m718/718\u001b[0m \u001b[32m━━━━━━━━━━━━━━━━━━━━\u001b[0m\u001b[37m\u001b[0m \u001b[1m28s\u001b[0m 38ms/step - accuracy: 0.3246 - loss: 1.6988 - val_accuracy: 0.3240 - val_loss: 1.7237 - learning_rate: 0.0010\n",
            "Epoch 32/50\n",
            "\u001b[1m718/718\u001b[0m \u001b[32m━━━━━━━━━━━━━━━━━━━━\u001b[0m\u001b[37m\u001b[0m \u001b[1m33s\u001b[0m 46ms/step - accuracy: 0.3296 - loss: 1.6780 - val_accuracy: 0.3259 - val_loss: 1.7042 - learning_rate: 0.0010\n",
            "Epoch 33/50\n",
            "\u001b[1m718/718\u001b[0m \u001b[32m━━━━━━━━━━━━━━━━━━━━\u001b[0m\u001b[37m\u001b[0m \u001b[1m28s\u001b[0m 38ms/step - accuracy: 0.3236 - loss: 1.6841 - val_accuracy: 0.3139 - val_loss: 1.7137 - learning_rate: 0.0010\n",
            "Epoch 34/50\n",
            "\u001b[1m718/718\u001b[0m \u001b[32m━━━━━━━━━━━━━━━━━━━━\u001b[0m\u001b[37m\u001b[0m \u001b[1m27s\u001b[0m 38ms/step - accuracy: 0.3360 - loss: 1.6853 - val_accuracy: 0.4010 - val_loss: 1.5786 - learning_rate: 0.0010\n",
            "Epoch 35/50\n",
            "\u001b[1m718/718\u001b[0m \u001b[32m━━━━━━━━━━━━━━━━━━━━\u001b[0m\u001b[37m\u001b[0m \u001b[1m42s\u001b[0m 39ms/step - accuracy: 0.3460 - loss: 1.6593 - val_accuracy: 0.3351 - val_loss: 1.6862 - learning_rate: 0.0010\n",
            "Epoch 36/50\n",
            "\u001b[1m718/718\u001b[0m \u001b[32m━━━━━━━━━━━━━━━━━━━━\u001b[0m\u001b[37m\u001b[0m \u001b[1m28s\u001b[0m 38ms/step - accuracy: 0.3422 - loss: 1.6793 - val_accuracy: 0.3606 - val_loss: 1.6521 - learning_rate: 0.0010\n",
            "Epoch 37/50\n",
            "\u001b[1m718/718\u001b[0m \u001b[32m━━━━━━━━━━━━━━━━━━━━\u001b[0m\u001b[37m\u001b[0m \u001b[1m45s\u001b[0m 44ms/step - accuracy: 0.3472 - loss: 1.6758 - val_accuracy: 0.3973 - val_loss: 1.5671 - learning_rate: 0.0010\n",
            "Epoch 38/50\n",
            "\u001b[1m718/718\u001b[0m \u001b[32m━━━━━━━━━━━━━━━━━━━━\u001b[0m\u001b[37m\u001b[0m \u001b[1m28s\u001b[0m 39ms/step - accuracy: 0.3614 - loss: 1.6387 - val_accuracy: 0.3189 - val_loss: 1.7062 - learning_rate: 0.0010\n",
            "Epoch 39/50\n",
            "\u001b[1m718/718\u001b[0m \u001b[32m━━━━━━━━━━━━━━━━━━━━\u001b[0m\u001b[37m\u001b[0m \u001b[1m28s\u001b[0m 39ms/step - accuracy: 0.3436 - loss: 1.6677 - val_accuracy: 0.3733 - val_loss: 1.6124 - learning_rate: 0.0010\n",
            "Epoch 40/50\n",
            "\u001b[1m718/718\u001b[0m \u001b[32m━━━━━━━━━━━━━━━━━━━━\u001b[0m\u001b[37m\u001b[0m \u001b[1m40s\u001b[0m 38ms/step - accuracy: 0.3546 - loss: 1.6504 - val_accuracy: 0.3917 - val_loss: 1.5974 - learning_rate: 0.0010\n",
            "Epoch 41/50\n",
            "\u001b[1m718/718\u001b[0m \u001b[32m━━━━━━━━━━━━━━━━━━━━\u001b[0m\u001b[37m\u001b[0m \u001b[1m41s\u001b[0m 38ms/step - accuracy: 0.3561 - loss: 1.6471 - val_accuracy: 0.3531 - val_loss: 1.6403 - learning_rate: 0.0010\n",
            "Epoch 42/50\n",
            "\u001b[1m718/718\u001b[0m \u001b[32m━━━━━━━━━━━━━━━━━━━━\u001b[0m\u001b[37m\u001b[0m \u001b[1m40s\u001b[0m 37ms/step - accuracy: 0.3563 - loss: 1.6222 - val_accuracy: 0.3458 - val_loss: 1.6895 - learning_rate: 0.0010\n",
            "Epoch 43/50\n",
            "\u001b[1m718/718\u001b[0m \u001b[32m━━━━━━━━━━━━━━━━━━━━\u001b[0m\u001b[37m\u001b[0m \u001b[1m42s\u001b[0m 39ms/step - accuracy: 0.3518 - loss: 1.6372 - val_accuracy: 0.3153 - val_loss: 1.7369 - learning_rate: 0.0010\n",
            "Epoch 44/50\n",
            "\u001b[1m718/718\u001b[0m \u001b[32m━━━━━━━━━━━━━━━━━━━━\u001b[0m\u001b[37m\u001b[0m \u001b[1m27s\u001b[0m 38ms/step - accuracy: 0.3515 - loss: 1.6489 - val_accuracy: 0.3766 - val_loss: 1.5985 - learning_rate: 0.0010\n",
            "Epoch 45/50\n",
            "\u001b[1m718/718\u001b[0m \u001b[32m━━━━━━━━━━━━━━━━━━━━\u001b[0m\u001b[37m\u001b[0m \u001b[1m41s\u001b[0m 38ms/step - accuracy: 0.3551 - loss: 1.6412 - val_accuracy: 0.3987 - val_loss: 1.5663 - learning_rate: 0.0010\n",
            "Epoch 46/50\n",
            "\u001b[1m718/718\u001b[0m \u001b[32m━━━━━━━━━━━━━━━━━━━━\u001b[0m\u001b[37m\u001b[0m \u001b[1m28s\u001b[0m 39ms/step - accuracy: 0.3644 - loss: 1.6147 - val_accuracy: 0.3978 - val_loss: 1.5667 - learning_rate: 0.0010\n",
            "Epoch 47/50\n",
            "\u001b[1m718/718\u001b[0m \u001b[32m━━━━━━━━━━━━━━━━━━━━\u001b[0m\u001b[37m\u001b[0m \u001b[1m33s\u001b[0m 45ms/step - accuracy: 0.3610 - loss: 1.6644 - val_accuracy: 0.3794 - val_loss: 1.5916 - learning_rate: 0.0010\n",
            "Epoch 48/50\n",
            "\u001b[1m718/718\u001b[0m \u001b[32m━━━━━━━━━━━━━━━━━━━━\u001b[0m\u001b[37m\u001b[0m \u001b[1m27s\u001b[0m 38ms/step - accuracy: 0.3615 - loss: 1.5951 - val_accuracy: 0.4215 - val_loss: 1.5185 - learning_rate: 0.0010\n",
            "Epoch 49/50\n",
            "\u001b[1m718/718\u001b[0m \u001b[32m━━━━━━━━━━━━━━━━━━━━\u001b[0m\u001b[37m\u001b[0m \u001b[1m41s\u001b[0m 38ms/step - accuracy: 0.3640 - loss: 1.6165 - val_accuracy: 0.4029 - val_loss: 1.5478 - learning_rate: 0.0010\n",
            "Epoch 50/50\n",
            "\u001b[1m718/718\u001b[0m \u001b[32m━━━━━━━━━━━━━━━━━━━━\u001b[0m\u001b[37m\u001b[0m \u001b[1m27s\u001b[0m 38ms/step - accuracy: 0.3713 - loss: 1.6256 - val_accuracy: 0.4186 - val_loss: 1.5320 - learning_rate: 0.0010\n"
          ]
        }
      ]
    },
    {
      "cell_type": "code",
      "source": [],
      "metadata": {
        "id": "9pK5lK70249y"
      },
      "execution_count": 10,
      "outputs": []
    },
    {
      "cell_type": "code",
      "source": [
        "# Evaluacija modela na test podacima\n",
        "test_loss, test_accuracy = model.evaluate(test_generator, steps=len(test_generator))\n",
        "\n",
        "# Prikaz rezultata\n",
        "print(f\"Test Loss: {test_loss}\")\n",
        "print(f\"Test Accuracy: {test_accuracy}\")\n"
      ],
      "metadata": {
        "id": "Zw9UsmbY2_tH",
        "colab": {
          "base_uri": "https://localhost:8080/"
        },
        "outputId": "684b50f4-15ba-4954-bce6-0809e86fe9da"
      },
      "execution_count": 17,
      "outputs": [
        {
          "output_type": "stream",
          "name": "stdout",
          "text": [
            "\u001b[1m225/225\u001b[0m \u001b[32m━━━━━━━━━━━━━━━━━━━━\u001b[0m\u001b[37m\u001b[0m \u001b[1m4s\u001b[0m 17ms/step - accuracy: 0.4456 - loss: 1.4427\n",
            "Test Loss: 1.437740445137024\n",
            "Test Accuracy: 0.44831427931785583\n"
          ]
        }
      ]
    },
    {
      "cell_type": "code",
      "source": [],
      "metadata": {
        "id": "6A-lX-fq6kv3"
      },
      "execution_count": null,
      "outputs": []
    },
    {
      "cell_type": "code",
      "source": [],
      "metadata": {
        "id": "sg7_LClJ6nkk"
      },
      "execution_count": null,
      "outputs": []
    },
    {
      "cell_type": "code",
      "source": [],
      "metadata": {
        "id": "BJK5ne883XEZ"
      },
      "execution_count": null,
      "outputs": []
    },
    {
      "cell_type": "code",
      "source": [],
      "metadata": {
        "id": "0P56mYWN5JLR"
      },
      "execution_count": null,
      "outputs": []
    },
    {
      "cell_type": "code",
      "source": [],
      "metadata": {
        "id": "8XPCmw9S311x"
      },
      "execution_count": null,
      "outputs": []
    },
    {
      "cell_type": "code",
      "source": [],
      "metadata": {
        "id": "A2Jg-__N4Un4"
      },
      "execution_count": null,
      "outputs": []
    }
  ]
}
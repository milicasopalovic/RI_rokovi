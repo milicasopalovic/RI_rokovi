{
 "cells": [
  {
   "cell_type": "markdown",
   "metadata": {},
   "source": [
    "### Zadatak 3.\n",
    "\n",
    "Jedan proizvodjač kafe je u toku 12 nedelja pratio uspešnost prodaje kesica kafe u zavisnosti od širine dela police koju je imao na raspolaganju. Tako dobijene vrednosti su zabeležene u datoteci coffee.csv.\n",
    "\n",
    "a) Nacrtati grafik zavisnosti prodaje kesica kafe u odnosu na širine police. Da li postoji opravdanje za modelovanje ovog problema linearnom regresijom?\n",
    "\n",
    "b) Odrediti odgovarajući regresioni model korišćenjem biblioteke scikit-learn.\n",
    "\n",
    "c) Odrediti regresioni model **bez** korišćenja biblioteke sciki-learn.\n",
    "\n",
    "d) Dati ocenu greške modela na osnovu kontrolnih podataka koji su sadržani u datoteci *coffee_validation.csv*."
   ]
  },
  {
   "cell_type": "code",
   "execution_count": 19,
   "metadata": {},
   "outputs": [],
   "source": [
    "import pandas as pd\n",
    "import numpy as np\n",
    "import matplotlib.pyplot as plt"
   ]
  },
  {
   "cell_type": "code",
   "execution_count": 20,
   "metadata": {},
   "outputs": [],
   "source": [
    "data = pd.read_csv('coffee.csv')\n",
    "data_val = pd.read_csv('coffee_validation.csv')\n"
   ]
  },
  {
   "cell_type": "code",
   "execution_count": 21,
   "metadata": {},
   "outputs": [
    {
     "data": {
      "image/png": "[encoded data removed]",
      "text/plain": [
       "<Figure size 640x480 with 1 Axes>"
      ]
     },
     "metadata": {},
     "output_type": "display_data"
    }
   ],
   "source": [
    "#a\n",
    "plt.scatter(data['ShelfSpace'], data['Sales'])\n",
    "plt.show()\n",
    "# postoji linearna zavisnost, ima smisla modelovati linearnom regresijom\n"
   ]
  },
  {
   "cell_type": "code",
   "execution_count": 22,
   "metadata": {},
   "outputs": [
    {
     "data": {
      "text/plain": [
       "np.float64(307.91666666666663)"
      ]
     },
     "execution_count": 22,
     "metadata": {},
     "output_type": "execute_result"
    }
   ],
   "source": [
    "#b\n",
    "from sklearn.linear_model import LinearRegression\n",
    "\n",
    "model = LinearRegression()\n",
    "model.fit(data['ShelfSpace'].values.reshape(-1, 1), data['Sales'].values)"
   ]
  },
  {
   "cell_type": "code",
   "execution_count": 24,
   "metadata": {},
   "outputs": [],
   "source": [
    "space = np.array(data['ShelfSpace'])\n",
    "space\n",
    "sales = np.array(data['Sales'])\n",
    "ones = np.ones(len(space))\n",
    "A = np.vstack((ones, space)).T\n",
    "x, rss, _, _ = np.linalg.lstsq(A, sales.T)\n",
    "# plt.scatter(space, sales)\n",
    "# plt.plot(space, x[0] + x[1] * space, color='red')\n",
    "# plt.show()\n"
   ]
  },
  {
   "cell_type": "code",
   "execution_count": 25,
   "metadata": {},
   "outputs": [
    {
     "name": "stdout",
     "output_type": "stream",
     "text": [
      "3210.6716269841268\n"
     ]
    }
   ],
   "source": [
    "preds = x[0] + x[1] * data_val['ShelfSpace']\n"
   ]
  },
  {
   "cell_type": "code",
   "execution_count": 29,
   "metadata": {},
   "outputs": [
    {
     "name": "stdout",
     "output_type": "stream",
     "text": [
      "3210.6716269841268\n",
      "3210.671626984126\n"
     ]
    }
   ],
   "source": [
    "from sklearn.metrics import mean_squared_error\n",
    "lstsq_mse = mean_squared_error(data_val['Sales'], preds)\n",
    "sklearn_mse = mean_squared_error(data_val['Sales'], model.predict(data_val['ShelfSpace'].values.reshape(-1, 1)))\n",
    "print(lstsq_mse)\n",
    "print(sklearn_mse)\n"
   ]
  },
  {
   "cell_type": "code",
   "execution_count": null,
   "metadata": {},
   "outputs": [],
   "source": []
  }
 ],
 "metadata": {
  "kernelspec": {
   "display_name": ".venv",
   "language": "python",
   "name": "python3"
  },
  "language_info": {
   "codemirror_mode": {
    "name": "ipython",
    "version": 3
   },
   "file_extension": ".py",
   "mimetype": "text/x-python",
   "name": "python",
   "nbconvert_exporter": "python",
   "pygments_lexer": "ipython3",
   "version": "3.12.3"
  }
 },
 "nbformat": 4,
 "nbformat_minor": 4
}
